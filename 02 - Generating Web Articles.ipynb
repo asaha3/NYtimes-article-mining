{
 "cells": [
  {
   "cell_type": "markdown",
   "metadata": {},
   "source": [
    "# Classifying Web Articles using NYTime API\n",
    "\n",
    "In this lecture we will retrieve 100 articles from Art & Sports (50 documents in each category) and we will train a classifier to identify specific lexicon in each category so to automatically categorize new documents.\n",
    "\n",
    "1. Generate Training Set"
   ]
  },
  {
   "cell_type": "code",
   "execution_count": 4,
   "metadata": {
    "collapsed": false
   },
   "outputs": [],
   "source": [
    "import time\n",
    "import json\n",
    "from nytimesarticle import articleAPI\n",
    "\n",
    "api = articleAPI('65e6563256a340f5842cf5b6af85c8d5')\n",
    "trainingFolder = 'C:\\\\tmp\\\\'\n",
    "sampleSize = 5 #Number of pages included. Normally each page contains 10 articles.\n",
    "\n",
    "#Functions are a modification of code made available by Rochelle Terman\n",
    "#http://dlab.berkeley.edu/blog/scraping-new-york-times-articles-python-tutorial\n",
    "\n",
    "def parse_articles(articles):\n",
    "    '''\n",
    "    This function takes in a response to the NYT api and parses\n",
    "    the articles into a list of dictionaries\n",
    "    '''\n",
    "    news = []\n",
    "    for i in articles['response']['docs']:\n",
    "        dic = {}\n",
    "        dic['id'] = i['_id']\n",
    "        if i['abstract'] is not None:\n",
    "            dic['abstract'] = i['abstract'].encode(\"utf8\")\n",
    "        dic['headline'] = i['headline']['main'].encode(\"utf8\")\n",
    "        dic['desk'] = i['news_desk']\n",
    "        dic['date'] = i['pub_date'][0:10] # cutting time of day.\n",
    "        dic['section'] = i['section_name']\n",
    "        if i['snippet'] is not None:\n",
    "            dic['snippet'] = i['snippet'].encode(\"utf8\")\n",
    "        dic['source'] = i['source']\n",
    "        dic['type'] = i['type_of_material']\n",
    "        dic['url'] = i['web_url']\n",
    "        dic['word_count'] = i['word_count']\n",
    "        # locations\n",
    "        locations = []\n",
    "        for x in range(0,len(i['keywords'])):\n",
    "            if 'glocations' in i['keywords'][x]['name']:\n",
    "                locations.append(i['keywords'][x]['value'])\n",
    "        dic['locations'] = locations\n",
    "        # subject\n",
    "        subjects = []\n",
    "        for x in range(0,len(i['keywords'])):\n",
    "            if 'subject' in i['keywords'][x]['name']:\n",
    "                subjects.append(i['keywords'][x]['value'])\n",
    "        dic['subjects'] = subjects   \n",
    "        news.append(dic)\n",
    "    return(news) \n",
    "\n",
    "def get_articles(sampleSize,query,category,year):\n",
    "    '''\n",
    "    This function accepts a year in string format (e.g.'1980')\n",
    "    and a query (e.g.'Amnesty International') and it will \n",
    "    return a list of parsed articles (in dictionaries)\n",
    "    for that year.\n",
    "    '''\n",
    "    all_articles = []\n",
    "    for i in range(0,sampleSize): #NYT limits pager to first 100 pages. But rarely will you find over 100 pages of results anyway.\n",
    "        print ('generating %s block ...' % i)\n",
    "        articles = api.search(q = query,\n",
    "                              fq = {'news_desk':category},\n",
    "                              begin_date = year + '0101',\n",
    "                              end_date = year + '1231',\n",
    "                              sort ='oldest',\n",
    "                              page = str(i))\n",
    "        articles = parse_articles(articles)\n",
    "        all_articles = all_articles + articles\n",
    "        # Sleep 1 second to avoid \"Exceeded Request Quota\" error\n",
    "        time.sleep(1)\n",
    "    return(all_articles)\n",
    "\n",
    "def testAPI(query,category):\n",
    "    content = []\n",
    "    arts =  get_articles(1,query,category,'2016')\n",
    "    print (arts)"
   ]
  },
  {
   "cell_type": "markdown",
   "metadata": {},
   "source": [
    "Testing the API"
   ]
  },
  {
   "cell_type": "code",
   "execution_count": null,
   "metadata": {
    "collapsed": false
   },
   "outputs": [],
   "source": [
    "testAPI(\"the\",\"Arts\")"
   ]
  },
  {
   "cell_type": "markdown",
   "metadata": {},
   "source": [
    "Utility Methods to generate training sets"
   ]
  },
  {
   "cell_type": "code",
   "execution_count": 1,
   "metadata": {
    "collapsed": false
   },
   "outputs": [],
   "source": [
    "def generateTrainingSet(size,category,year):\n",
    "    articles = get_articles(size,\"the\",category,year)\n",
    "    fileName = \"C:\\\\tmp\\\\training_\"+category.lower()\n",
    "    f = open(fileName, 'w')\n",
    "    \n",
    "    for doc in articles:\n",
    "        if 'abstract' in doc:\n",
    "            # Get the abstract\n",
    "            abstract = doc['abstract']\n",
    "            \n",
    "            #Remove tabs\n",
    "            abstract=abstract.replace('\\t',' ')\n",
    "            f.write('%s\\n' % abstract)\n",
    "    \n",
    "    f.close()"
   ]
  },
  {
   "cell_type": "markdown",
   "metadata": {},
   "source": [
    "Generate Training sets for ARTS and SPORTS"
   ]
  },
  {
   "cell_type": "code",
   "execution_count": null,
   "metadata": {
    "collapsed": false
   },
   "outputs": [],
   "source": [
    "generateTrainingSet(5,\"Arts\",\"2016\")\n",
    "generateTrainingSet(5,\"Sports\",\"2016\")"
   ]
  },
  {
   "cell_type": "code",
   "execution_count": null,
   "metadata": {
    "collapsed": true
   },
   "outputs": [],
   "source": []
  }
 ],
 "metadata": {
  "anaconda-cloud": {},
  "kernelspec": {
   "display_name": "Python [conda env:Anaconda27]",
   "language": "python",
   "name": "conda-env-Anaconda27-py"
  },
  "language_info": {
   "codemirror_mode": {
    "name": "ipython",
    "version": 2
   },
   "file_extension": ".py",
   "mimetype": "text/x-python",
   "name": "python",
   "nbconvert_exporter": "python",
   "pygments_lexer": "ipython2",
   "version": "2.7.13"
  }
 },
 "nbformat": 4,
 "nbformat_minor": 1
}
